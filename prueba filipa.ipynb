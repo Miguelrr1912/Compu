{
 "cells": [
  {
   "cell_type": "code",
   "execution_count": null,
   "metadata": {},
   "outputs": [
    {
     "name": "stdout",
     "output_type": "stream",
     "text": [
      "Hello\n",
      "Hello Lovely Word\n"
     ]
    },
    {
     "data": {
      "text/plain": [
       "140.71004226562505"
      ]
     },
     "execution_count": 4,
     "metadata": {},
     "output_type": "execute_result"
    }
   ],
   "source": [
    "print (\"Hello\")\n",
    "\n",
    "message= \"Hello Lovely Word\"\n",
    "\n",
    "print (message)\n",
    "\n",
    "100*(1+5/100)**7\n",
    "\n"
   ]
  },
  {
   "cell_type": "code",
   "execution_count": null,
   "metadata": {},
   "outputs": [],
   "source": []
  },
  {
   "cell_type": "code",
   "execution_count": 15,
   "metadata": {},
   "outputs": [
    {
     "name": "stdout",
     "output_type": "stream",
     "text": [
      "1.0\n",
      "0.9999999999999999\n"
     ]
    }
   ],
   "source": [
    "\n",
    "\n",
    "v1 = 1/51*51\n",
    "v2 = 1/49*49\n",
    "\n",
    "print (v1)\n",
    "print (v2)"
   ]
  },
  {
   "cell_type": "code",
   "execution_count": 24,
   "metadata": {},
   "outputs": [
    {
     "name": "stdout",
     "output_type": "stream",
     "text": [
      "A thousand times large is 1e+08\n"
     ]
    }
   ],
   "source": [
    "large = 100000000\n",
    "\n",
    "print(f\"A thousand times large is {large:g}\")"
   ]
  },
  {
   "cell_type": "code",
   "execution_count": null,
   "metadata": {},
   "outputs": [
    {
     "name": "stdout",
     "output_type": "stream",
     "text": [
      "55\n",
      "55\n"
     ]
    }
   ],
   "source": [
    "\n",
    "numero=0\n",
    "for m in range(11):\n",
    "    numero= numero + m\n",
    "\n",
    "print(numero)\n",
    "numero=0\n",
    "i=0\n",
    "while i<11:\n",
    "    numero=numero+i\n",
    "    i=i+1\n",
    "print(numero)\n",
    "\n",
    "\n",
    "\n",
    "\n",
    "\n",
    "\n",
    "     "
   ]
  },
  {
   "cell_type": "markdown",
   "metadata": {},
   "source": []
  },
  {
   "cell_type": "code",
   "execution_count": 21,
   "metadata": {},
   "outputs": [
    {
     "name": "stdout",
     "output_type": "stream",
     "text": [
      "10/10\n"
     ]
    }
   ],
   "source": [
    "def holi(palabra):\n",
    "    if palabra==\"filipa\":\n",
    "        return(\"10/10\")\n",
    "    else :\n",
    "        return(\"vaya mierda\")\n",
    "\n",
    "palabra=\"filipa\"\n",
    "\n",
    "print(holi(palabra))\n",
    "    "
   ]
  },
  {
   "cell_type": "code",
   "execution_count": 23,
   "metadata": {},
   "outputs": [
    {
     "name": "stdout",
     "output_type": "stream",
     "text": [
      "55\n"
     ]
    }
   ],
   "source": [
    "\n",
    "def suma (numero):\n",
    "    sum=0\n",
    "    for i in range(numero+1):\n",
    "        sum=sum+i\n",
    "    return (sum)\n",
    "\n",
    "\n",
    "print(suma(10))"
   ]
  },
  {
   "cell_type": "code",
   "execution_count": 29,
   "metadata": {},
   "outputs": [
    {
     "name": "stdout",
     "output_type": "stream",
     "text": [
      "3.141592653589793\n",
      "(314.1592653589793, 62.83185307179586)\n"
     ]
    }
   ],
   "source": [
    "from math import pi\n",
    "print(pi)\n",
    "\n",
    "def area_circulo(radio):\n",
    "    return pi*radio**2,2*pi*radio\n",
    "\n",
    "print(area_circulo(10))"
   ]
  },
  {
   "cell_type": "code",
   "execution_count": 31,
   "metadata": {},
   "outputs": [
    {
     "name": "stdout",
     "output_type": "stream",
     "text": [
      "1407.1004226562504\n",
      "15036.302589913606\n",
      "171382.4268779521\n"
     ]
    }
   ],
   "source": [
    "def interest (capital,years):\n",
    "    if capital<=1000:\n",
    "        return capital*(1+0.05)**years\n",
    "    elif 1000<capital<=10000:\n",
    "        return capital*(1+0.06)**years\n",
    "    else:\n",
    "        return capital*(1+0.08)**years\n",
    "\n",
    "print(interest(1000,7))\n",
    "print(interest(10000,7))\n",
    "print(interest(100000,7))\n",
    "\n",
    "    "
   ]
  },
  {
   "cell_type": "code",
   "execution_count": 1,
   "metadata": {},
   "outputs": [
    {
     "data": {
      "text/plain": [
       "[100.0,\n",
       " 105.0,\n",
       " 110.25,\n",
       " 115.76250000000002,\n",
       " 121.55062500000003,\n",
       " 127.62815625000003,\n",
       " 134.00956406250003,\n",
       " 140.71004226562505,\n",
       " 147.7455443789063,\n",
       " 155.13282159785163,\n",
       " 162.8894626777442]"
      ]
     },
     "execution_count": 1,
     "metadata": {},
     "output_type": "execute_result"
    }
   ],
   "source": [
    "\n",
    "\n",
    "def amount_en_lista(capital,years):\n",
    "    numero=0\n",
    "    lista1=[]\n",
    "    for i in range(years+1):\n",
    "        numero= capital*(1+0.05)**i\n",
    "        lista1.append(numero)\n",
    "    return lista1\n",
    "\n",
    "amount_en_lista(100,10)"
   ]
  },
  {
   "cell_type": "code",
   "execution_count": null,
   "metadata": {},
   "outputs": [],
   "source": [
    "Numpy "
   ]
  },
  {
   "cell_type": "code",
   "execution_count": 3,
   "metadata": {},
   "outputs": [
    {
     "name": "stdout",
     "output_type": "stream",
     "text": [
      "1.4142135623730951\n",
      "7.38905609893065\n",
      "[1 2 3 4 5]\n",
      "[[1 2 3]\n",
      " [4 5 6]\n",
      " [7 8 9]]\n",
      "[[[1.+0.j 2.+0.j]\n",
      "  [3.+0.j 4.+0.j]]\n",
      "\n",
      " [[5.+0.j 6.+0.j]\n",
      "  [7.+0.j 8.+0.j]]]\n",
      "(2, 2, 2)\n",
      "[0 1 2 3 4 5 6 7 8 9]\n",
      "[-1.00000000e+00 -9.00000000e-01 -8.00000000e-01 -7.00000000e-01\n",
      " -6.00000000e-01 -5.00000000e-01 -4.00000000e-01 -3.00000000e-01\n",
      " -2.00000000e-01 -1.00000000e-01 -2.22044605e-16  1.00000000e-01\n",
      "  2.00000000e-01  3.00000000e-01  4.00000000e-01  5.00000000e-01\n",
      "  6.00000000e-01  7.00000000e-01  8.00000000e-01  9.00000000e-01]\n",
      "[ 0.  1.  2.  3.  4.  5.  6.  7.  8.  9. 10.]\n"
     ]
    }
   ],
   "source": [
    "\n",
    "import os \n",
    "import scipy\n",
    "import numpy as np \n",
    "import matplotlib.pyplot as plt\n",
    "\n",
    "root = np.sqrt(2)\n",
    "print(root)\n",
    "\n",
    "print(np.exp(2))\n",
    "\n",
    "vec = np.array([1,2,3,4,5])\n",
    "print(vec)\n",
    "\n",
    "mat = np.array([[1,2,3],[4,5,6],[7,8,9]])\n",
    "print(mat)\n",
    "\n",
    "B= np.array([[[1,2],[3,4]],[[5,6],[7,8]]],dtype=complex)\n",
    "print(B)\n",
    "\n",
    "print(B.shape)\n",
    "\n",
    "B.dtype\n",
    "\n",
    "v= np.arange(0,10,1)\n",
    "print(v)\n",
    "\n",
    "v= np.arange(-1,1,0.1)\n",
    "print(v)\n",
    "\n",
    "v= np.linspace(0,10,11)\n",
    "print(v)\n",
    "\n",
    "\n"
   ]
  },
  {
   "cell_type": "code",
   "execution_count": null,
   "metadata": {},
   "outputs": [
    {
     "name": "stdout",
     "output_type": "stream",
     "text": [
      "[0. 0. 0. 0. 0. 0. 0. 0. 0. 0.]\n",
      "[[[0. 0.]\n",
      "  [0. 0.]]\n",
      "\n",
      " [[0. 0.]\n",
      "  [0. 0.]]]\n",
      "[[1. 0. 0. 0.]\n",
      " [0. 1. 0. 0.]\n",
      " [0. 0. 1. 0.]\n",
      " [0. 0. 0. 1.]]\n",
      "[[7 0 0]\n",
      " [0 8 0]\n",
      " [0 0 1]]\n",
      "[[0.22400427 0.30281928 0.91664642 0.7723861  0.00923398]\n",
      " [0.18857746 0.16571631 0.24695323 0.41511332 0.68812704]\n",
      " [0.00982522 0.81622505 0.01025796 0.57510688 0.24973391]\n",
      " [0.72984306 0.86646326 0.5776258  0.25501341 0.46279114]\n",
      " [0.88784095 0.70286628 0.47078739 0.48439091 0.35181592]]\n"
     ]
    }
   ],
   "source": [
    "A= np.zeros(10)\n",
    "print(A)\n",
    "\n",
    "A= np.zeros([2,2,2])\n",
    "print(A)\n",
    "\n",
    "Identity = np.eye(4)\n",
    "Diagonal = np.diag([7,8,1])\n",
    "Random = np.random.rand(5,5)\n",
    "\n",
    "print(Identity)\n",
    "print(Diagonal)\n",
    "print(Random)\n",
    "\n",
    "print(Random[0,0])"
   ]
  }
 ],
 "metadata": {
  "kernelspec": {
   "display_name": "base",
   "language": "python",
   "name": "python3"
  },
  "language_info": {
   "codemirror_mode": {
    "name": "ipython",
    "version": 3
   },
   "file_extension": ".py",
   "mimetype": "text/x-python",
   "name": "python",
   "nbconvert_exporter": "python",
   "pygments_lexer": "ipython3",
   "version": "3.12.8"
  }
 },
 "nbformat": 4,
 "nbformat_minor": 2
}
